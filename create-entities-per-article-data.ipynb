{
 "cells": [
  {
   "cell_type": "code",
   "execution_count": 1,
   "id": "5216d692",
   "metadata": {},
   "outputs": [],
   "source": [
    "import json\n",
    "import spacy"
   ]
  },
  {
   "cell_type": "code",
   "execution_count": 2,
   "id": "6a823d95",
   "metadata": {},
   "outputs": [],
   "source": [
    "def write_data(file, data):\n",
    "    with open (file, \"w\", encoding=\"utf-8\") as f:\n",
    "        json.dump(data, f, indent=4)"
   ]
  },
  {
   "cell_type": "code",
   "execution_count": 3,
   "id": "66fda8a8",
   "metadata": {},
   "outputs": [],
   "source": [
    "nlp = spacy.load(\"commodities_ner_rules\")"
   ]
  },
  {
   "cell_type": "code",
   "execution_count": 4,
   "id": "daa8757b",
   "metadata": {},
   "outputs": [],
   "source": [
    "def test_model(model, text):\n",
    "    doc = nlp(text)\n",
    "    results = []\n",
    "    for ent in doc.ents:\n",
    "        results.append(ent.text)\n",
    "    return results"
   ]
  },
  {
   "cell_type": "code",
   "execution_count": 5,
   "id": "381cb378",
   "metadata": {},
   "outputs": [],
   "source": [
    "ie_data = {}\n",
    "\n",
    "with open(\"data/ft-articles-training.txt\") as f:\n",
    "    text = f.read()\n",
    "    articles = text.split(\"\\n\")\n",
    "    for article in articles:\n",
    "        articleUuid, articleBodyText = article.split(\"|||\")\n",
    "        segments = articleBodyText.split(\"||\")\n",
    "        hits = []\n",
    "        for segment in segments:\n",
    "            results = test_model(nlp, segment)\n",
    "            for result in results:\n",
    "                hits.append(result)\n",
    "        ie_data[articleUuid] = hits"
   ]
  },
  {
   "cell_type": "code",
   "execution_count": 6,
   "id": "4b309795",
   "metadata": {
    "scrolled": true
   },
   "outputs": [
    {
     "name": "stdout",
     "output_type": "stream",
     "text": [
      "['Cotton', 'corn', 'corn', 'wheat', 'cotton', 'cotton', 'wheat', 'cotton', 'wheat', 'cotton', 'cotton', 'cotton', 'cotton']\n"
     ]
    }
   ],
   "source": [
    "print(ie_data['c424190e-7e7f-11dc-8fac-0000779fd2ac'])"
   ]
  },
  {
   "cell_type": "code",
   "execution_count": 7,
   "id": "87ca0150",
   "metadata": {},
   "outputs": [],
   "source": [
    "write_data(\"data/entities_per_article_data.json\", ie_data)"
   ]
  }
 ],
 "metadata": {
  "kernelspec": {
   "display_name": "Python 3 (ipykernel)",
   "language": "python",
   "name": "python3"
  },
  "language_info": {
   "codemirror_mode": {
    "name": "ipython",
    "version": 3
   },
   "file_extension": ".py",
   "mimetype": "text/x-python",
   "name": "python",
   "nbconvert_exporter": "python",
   "pygments_lexer": "ipython3",
   "version": "3.9.7"
  }
 },
 "nbformat": 4,
 "nbformat_minor": 5
}
