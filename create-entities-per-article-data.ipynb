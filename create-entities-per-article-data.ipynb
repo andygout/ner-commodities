{
 "cells": [
  {
   "cell_type": "code",
   "execution_count": 32,
   "id": "5216d692",
   "metadata": {},
   "outputs": [],
   "source": [
    "import json\n",
    "import spacy"
   ]
  },
  {
   "cell_type": "code",
   "execution_count": 33,
   "id": "65c168b0",
   "metadata": {},
   "outputs": [],
   "source": [
    "def load_data(file):\n",
    "    with open (file, \"r\", encoding=\"utf-8\") as f:\n",
    "        data = json.load(f)\n",
    "    return (data)"
   ]
  },
  {
   "cell_type": "code",
   "execution_count": 34,
   "id": "6a823d95",
   "metadata": {},
   "outputs": [],
   "source": [
    "def write_data(file, data):\n",
    "    with open (file, \"w\", encoding=\"utf-8\") as f:\n",
    "        json.dump(data, f, indent=4)"
   ]
  },
  {
   "cell_type": "code",
   "execution_count": 35,
   "id": "0b9fa67a",
   "metadata": {},
   "outputs": [],
   "source": [
    "def create_training_data(file, type):\n",
    "    data = load_data(file)\n",
    "    patterns = []\n",
    "    for item in data:\n",
    "        pattern = {\n",
    "            \"label\": type,\n",
    "            \"pattern\": item\n",
    "        }\n",
    "        patterns.append(pattern)\n",
    "    return (patterns)"
   ]
  },
  {
   "cell_type": "code",
   "execution_count": 36,
   "id": "cca280d0",
   "metadata": {},
   "outputs": [],
   "source": [
    "def generate_rules(patterns):\n",
    "    nlp = English()\n",
    "    ruler = nlp.add_pipe(\"entity_ruler\")\n",
    "    ruler.add_patterns(patterns)\n",
    "    nlp.to_disk(\"commodities_ner\")"
   ]
  },
  {
   "cell_type": "code",
   "execution_count": 37,
   "id": "26c1cca9",
   "metadata": {
    "scrolled": true
   },
   "outputs": [
    {
     "name": "stdout",
     "output_type": "stream",
     "text": [
      "[{'label': 'COMMODITY', 'pattern': 'aluminium'}, {'label': 'COMMODITY', 'pattern': 'Aluminium'}, {'label': 'COMMODITY', 'pattern': 'amber'}, {'label': 'COMMODITY', 'pattern': 'Amber'}, {'label': 'COMMODITY', 'pattern': 'Brent crude'}, {'label': 'COMMODITY', 'pattern': 'cattle'}, {'label': 'COMMODITY', 'pattern': 'Cattle'}, {'label': 'COMMODITY', 'pattern': 'cobalt'}, {'label': 'COMMODITY', 'pattern': 'Cobalt'}, {'label': 'COMMODITY', 'pattern': 'cocoa'}, {'label': 'COMMODITY', 'pattern': 'Cocoa'}, {'label': 'COMMODITY', 'pattern': 'coffee'}, {'label': 'COMMODITY', 'pattern': 'Coffee'}, {'label': 'COMMODITY', 'pattern': 'copper'}, {'label': 'COMMODITY', 'pattern': 'Copper'}, {'label': 'COMMODITY', 'pattern': 'corn'}, {'label': 'COMMODITY', 'pattern': 'Corn'}, {'label': 'COMMODITY', 'pattern': 'cotton'}, {'label': 'COMMODITY', 'pattern': 'Cotton'}, {'label': 'COMMODITY', 'pattern': 'crude oil'}, {'label': 'COMMODITY', 'pattern': 'Crude oil'}, {'label': 'COMMODITY', 'pattern': 'ethanol'}, {'label': 'COMMODITY', 'pattern': 'Ethanol'}, {'label': 'COMMODITY', 'pattern': 'gold'}, {'label': 'COMMODITY', 'pattern': 'Gold'}, {'label': 'COMMODITY', 'pattern': 'grain'}, {'label': 'COMMODITY', 'pattern': 'Grain'}, {'label': 'COMMODITY', 'pattern': 'heating oil'}, {'label': 'COMMODITY', 'pattern': 'Heating oil'}, {'label': 'COMMODITY', 'pattern': 'hogs'}, {'label': 'COMMODITY', 'pattern': 'Hogs'}, {'label': 'COMMODITY', 'pattern': 'iron'}, {'label': 'COMMODITY', 'pattern': 'Iron'}, {'label': 'COMMODITY', 'pattern': 'lead'}, {'label': 'COMMODITY', 'pattern': 'Lead'}, {'label': 'COMMODITY', 'pattern': 'lithium'}, {'label': 'COMMODITY', 'pattern': 'Lithium'}, {'label': 'COMMODITY', 'pattern': 'milk'}, {'label': 'COMMODITY', 'pattern': 'Milk'}, {'label': 'COMMODITY', 'pattern': 'molybdenum'}, {'label': 'COMMODITY', 'pattern': 'Molybdenum'}, {'label': 'COMMODITY', 'pattern': 'natural gas'}, {'label': 'COMMODITY', 'pattern': 'Natural gas'}, {'label': 'COMMODITY', 'pattern': 'nickel'}, {'label': 'COMMODITY', 'pattern': 'Nickel'}, {'label': 'COMMODITY', 'pattern': 'oats'}, {'label': 'COMMODITY', 'pattern': 'Oats'}, {'label': 'COMMODITY', 'pattern': 'palladium'}, {'label': 'COMMODITY', 'pattern': 'Palladium'}, {'label': 'COMMODITY', 'pattern': 'palm oil'}, {'label': 'COMMODITY', 'pattern': 'Palm oil'}, {'label': 'COMMODITY', 'pattern': 'platinum'}, {'label': 'COMMODITY', 'pattern': 'Platinum'}, {'label': 'COMMODITY', 'pattern': 'poultry'}, {'label': 'COMMODITY', 'pattern': 'Poultry'}, {'label': 'COMMODITY', 'pattern': 'propane'}, {'label': 'COMMODITY', 'pattern': 'Propane'}, {'label': 'COMMODITY', 'pattern': 'rapeseed'}, {'label': 'COMMODITY', 'pattern': 'Rapeseed'}, {'label': 'COMMODITY', 'pattern': 'rice'}, {'label': 'COMMODITY', 'pattern': 'Rice'}, {'label': 'COMMODITY', 'pattern': 'rubber'}, {'label': 'COMMODITY', 'pattern': 'Rubber'}, {'label': 'COMMODITY', 'pattern': 'silver'}, {'label': 'COMMODITY', 'pattern': 'Silver'}, {'label': 'COMMODITY', 'pattern': 'soybeans'}, {'label': 'COMMODITY', 'pattern': 'Soybeans'}, {'label': 'COMMODITY', 'pattern': 'soya beans'}, {'label': 'COMMODITY', 'pattern': 'Soya beans'}, {'label': 'COMMODITY', 'pattern': 'sugar'}, {'label': 'COMMODITY', 'pattern': 'Sugar'}, {'label': 'COMMODITY', 'pattern': 'tin'}, {'label': 'COMMODITY', 'pattern': 'Tin'}, {'label': 'COMMODITY', 'pattern': 'wheat'}, {'label': 'COMMODITY', 'pattern': 'Wheat'}, {'label': 'COMMODITY', 'pattern': 'wool'}, {'label': 'COMMODITY', 'pattern': 'Wool'}, {'label': 'COMMODITY', 'pattern': 'zinc'}, {'label': 'COMMODITY', 'pattern': 'Zinc'}]\n"
     ]
    }
   ],
   "source": [
    "patterns = create_training_data(\"data/commodities.json\", \"COMMODITY\")\n",
    "print(patterns)"
   ]
  },
  {
   "cell_type": "code",
   "execution_count": 38,
   "id": "66fda8a8",
   "metadata": {},
   "outputs": [],
   "source": [
    "nlp = spacy.load(\"commodities_ner\")"
   ]
  },
  {
   "cell_type": "code",
   "execution_count": 39,
   "id": "daa8757b",
   "metadata": {},
   "outputs": [],
   "source": [
    "def test_model(model, text):\n",
    "    doc = nlp(text)\n",
    "    results = []\n",
    "    for ent in doc.ents:\n",
    "        results.append(ent.text)\n",
    "    return results"
   ]
  },
  {
   "cell_type": "code",
   "execution_count": 40,
   "id": "381cb378",
   "metadata": {},
   "outputs": [],
   "source": [
    "ie_data = {}\n",
    "\n",
    "with open(\"data/ft-commodities-articles.txt\") as f:\n",
    "    text = f.read()\n",
    "    articles = text.split(\"\\n\")\n",
    "    for article in articles:\n",
    "        articleUuid, articleBodyText = article.split(\"|||\")\n",
    "        segments = articleBodyText.split(\"||\")\n",
    "        hits = []\n",
    "        for segment in segments:\n",
    "            results = test_model(nlp, segment)\n",
    "            for result in results:\n",
    "                hits.append(result)\n",
    "        ie_data[articleUuid] = hits"
   ]
  },
  {
   "cell_type": "code",
   "execution_count": 41,
   "id": "4b309795",
   "metadata": {
    "scrolled": true
   },
   "outputs": [
    {
     "name": "stdout",
     "output_type": "stream",
     "text": [
      "['ethanol', 'Cotton', 'corn', 'ethanol', 'corn', 'wheat', 'cotton', 'cotton', 'wheat', 'cotton', 'wheat', 'cotton', 'cotton', 'nickel', 'cotton', 'cotton']\n"
     ]
    }
   ],
   "source": [
    "print(ie_data['c424190e-7e7f-11dc-8fac-0000779fd2ac'])"
   ]
  },
  {
   "cell_type": "code",
   "execution_count": 42,
   "id": "87ca0150",
   "metadata": {},
   "outputs": [],
   "source": [
    "write_data(\"data/commodities_entities_per_article_data.json\", ie_data)"
   ]
  }
 ],
 "metadata": {
  "kernelspec": {
   "display_name": "Python 3 (ipykernel)",
   "language": "python",
   "name": "python3"
  },
  "language_info": {
   "codemirror_mode": {
    "name": "ipython",
    "version": 3
   },
   "file_extension": ".py",
   "mimetype": "text/x-python",
   "name": "python",
   "nbconvert_exporter": "python",
   "pygments_lexer": "ipython3",
   "version": "3.9.7"
  }
 },
 "nbformat": 4,
 "nbformat_minor": 5
}
