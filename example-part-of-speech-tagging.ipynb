{
 "cells": [
  {
   "cell_type": "code",
   "execution_count": 31,
   "id": "58cf3cd9",
   "metadata": {},
   "outputs": [],
   "source": [
    "import spacy"
   ]
  },
  {
   "cell_type": "code",
   "execution_count": 40,
   "id": "d8bea4be",
   "metadata": {},
   "outputs": [
    {
     "name": "stdout",
     "output_type": "stream",
     "text": [
      "['tok2vec', 'tagger', 'parser', 'attribute_ruler', 'lemmatizer', 'ner']\n"
     ]
    },
    {
     "data": {
      "text/plain": [
       "[(Gold, 'NOUN'),\n",
       " (is, 'AUX'),\n",
       " (great, 'ADJ'),\n",
       " (and, 'CCONJ'),\n",
       " (this, 'PRON'),\n",
       " (is, 'AUX'),\n",
       " (text, 'NOUN'),\n",
       " (about, 'ADP'),\n",
       " (gold, 'NOUN'),\n",
       " (the, 'DET'),\n",
       " (commodity, 'NOUN'),\n",
       " (and, 'CCONJ'),\n",
       " (also, 'ADV'),\n",
       " (about, 'ADP'),\n",
       " (Yamana, 'PROPN'),\n",
       " (Gold, 'PROPN'),\n",
       " (the, 'DET'),\n",
       " (company, 'NOUN'),\n",
       " (,, 'PUNCT'),\n",
       " (of, 'ADP'),\n",
       " (which, 'PRON'),\n",
       " (Daniel, 'PROPN'),\n",
       " (Racine, 'PROPN'),\n",
       " (is, 'AUX'),\n",
       " (CEO, 'PROPN'),\n",
       " (,, 'PUNCT'),\n",
       " (and, 'CCONJ'),\n",
       " (the, 'DET'),\n",
       " (other, 'ADJ'),\n",
       " (companies, 'NOUN'),\n",
       " (called, 'VERB'),\n",
       " (Gold, 'PROPN'),\n",
       " (Fields, 'PROPN'),\n",
       " (,, 'PUNCT'),\n",
       " (Auminium, 'PROPN'),\n",
       " (Mining, 'PROPN'),\n",
       " (Corp, 'PROPN'),\n",
       " (,, 'PUNCT'),\n",
       " (and, 'CCONJ'),\n",
       " (Goldcorp, 'PROPN'),\n",
       " (., 'PUNCT')]"
      ]
     },
     "execution_count": 40,
     "metadata": {},
     "output_type": "execute_result"
    }
   ],
   "source": [
    "nlp = spacy.load(\"en_core_web_sm\")\n",
    "\n",
    "print(nlp.pipe_names)\n",
    "\n",
    "doc = nlp(\"Gold is great and this is text about gold the commodity and also about Yamana Gold the company, of which Daniel Racine is CEO, and the other companies called Gold Fields, Auminium Mining Corp, and Goldcorp.\")\n",
    "\n",
    "[(i, i.pos_) for i in doc]"
   ]
  },
  {
   "cell_type": "code",
   "execution_count": 41,
   "id": "3ad200eb",
   "metadata": {},
   "outputs": [
    {
     "name": "stdout",
     "output_type": "stream",
     "text": [
      "Gold is great and this is text about gold the commodity and also about Yamana Gold the company, of which Daniel Racine is CEO, and the other companies called Gold Fields, Auminium Mining Corp, and Goldcorp.\n"
     ]
    }
   ],
   "source": [
    "print(doc)"
   ]
  },
  {
   "cell_type": "code",
   "execution_count": 42,
   "id": "414add9f",
   "metadata": {},
   "outputs": [
    {
     "name": "stdout",
     "output_type": "stream",
     "text": [
      "Yamana Gold 71 82 383 ORG\n",
      "Daniel Racine 105 118 380 PERSON\n",
      "Gold Fields 158 169 383 ORG\n",
      "Auminium Mining Corp 171 191 383 ORG\n",
      "Goldcorp 197 205 383 ORG\n"
     ]
    }
   ],
   "source": [
    "for ent in doc.ents:\n",
    "        print(ent.text, ent.start_char, ent.end_char, ent.label, ent.label_)"
   ]
  }
 ],
 "metadata": {
  "kernelspec": {
   "display_name": "Python 3 (ipykernel)",
   "language": "python",
   "name": "python3"
  },
  "language_info": {
   "codemirror_mode": {
    "name": "ipython",
    "version": 3
   },
   "file_extension": ".py",
   "mimetype": "text/x-python",
   "name": "python",
   "nbconvert_exporter": "python",
   "pygments_lexer": "ipython3",
   "version": "3.9.7"
  }
 },
 "nbformat": 4,
 "nbformat_minor": 5
}
