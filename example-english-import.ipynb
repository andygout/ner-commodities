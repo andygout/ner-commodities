{
 "cells": [
  {
   "cell_type": "code",
   "execution_count": 1,
   "id": "de7795d6",
   "metadata": {},
   "outputs": [],
   "source": [
    "import spacy\n",
    "from spacy.language import Language\n",
    "from spacy.lang.en import English"
   ]
  },
  {
   "cell_type": "code",
   "execution_count": 2,
   "id": "ef0c1772",
   "metadata": {},
   "outputs": [
    {
     "name": "stdout",
     "output_type": "stream",
     "text": [
      "['entity_ruler']\n"
     ]
    }
   ],
   "source": [
    "# When using `English()`, the below patterns will produce the below ValueError.\n",
    "# A less-specific pattern must be employed in which we cannot specify the part-of-speech (POS) value required.\n",
    "# patterns = [{'label': 'COMMODITY', 'pattern': [{'LOWER': 'gold', 'POS': 'NOUN'}]}]\n",
    "# ValueError: [E155] The pipeline needs to include a morphologizer or tagger+attribute_ruler in order to use Matcher or PhraseMatcher with the attribute POS. Try using `nlp()` instead of `nlp.make_doc()` or `list(nlp.pipe())` instead of `list(nlp.tokenizer.pipe())`.\n",
    "\n",
    "patterns = [{'label': 'COMMODITY', 'pattern': 'Gold' }, {'label': 'COMMODITY', 'pattern': 'gold' }]\n",
    "\n",
    "nlp = English()\n",
    "\n",
    "ruler = nlp.add_pipe(\"entity_ruler\")\n",
    "\n",
    "ruler.add_patterns(patterns)\n",
    "\n",
    "print(nlp.pipe_names)\n",
    "\n",
    "doc = nlp(\"Gold is great and this is text about gold the commodity and also about Yamana Gold the company, of which Daniel Racine is CEO, and the other companies called Gold Fields, Auminium Mining Corp, and Goldcorp. It is also about switching out of the gold ETF [exchange traded fund] into gold equities and gold equity funds.\")"
   ]
  },
  {
   "cell_type": "code",
   "execution_count": 3,
   "id": "f07c9ef1",
   "metadata": {
    "scrolled": true
   },
   "outputs": [
    {
     "name": "stdout",
     "output_type": "stream",
     "text": [
      "Gold is great and this is text about gold the commodity and also about Yamana Gold the company, of which Daniel Racine is CEO, and the other companies called Gold Fields, Auminium Mining Corp, and Goldcorp. It is also about switching out of the gold ETF [exchange traded fund] into gold equities and gold equity funds.\n"
     ]
    }
   ],
   "source": [
    "print(doc)"
   ]
  },
  {
   "cell_type": "code",
   "execution_count": 4,
   "id": "277caa32",
   "metadata": {},
   "outputs": [
    {
     "data": {
      "text/plain": [
       "[(Gold, ''),\n",
       " (is, ''),\n",
       " (great, ''),\n",
       " (and, ''),\n",
       " (this, ''),\n",
       " (is, ''),\n",
       " (text, ''),\n",
       " (about, ''),\n",
       " (gold, ''),\n",
       " (the, ''),\n",
       " (commodity, ''),\n",
       " (and, ''),\n",
       " (also, ''),\n",
       " (about, ''),\n",
       " (Yamana, ''),\n",
       " (Gold, ''),\n",
       " (the, ''),\n",
       " (company, ''),\n",
       " (,, ''),\n",
       " (of, ''),\n",
       " (which, ''),\n",
       " (Daniel, ''),\n",
       " (Racine, ''),\n",
       " (is, ''),\n",
       " (CEO, ''),\n",
       " (,, ''),\n",
       " (and, ''),\n",
       " (the, ''),\n",
       " (other, ''),\n",
       " (companies, ''),\n",
       " (called, ''),\n",
       " (Gold, ''),\n",
       " (Fields, ''),\n",
       " (,, ''),\n",
       " (Auminium, ''),\n",
       " (Mining, ''),\n",
       " (Corp, ''),\n",
       " (,, ''),\n",
       " (and, ''),\n",
       " (Goldcorp, ''),\n",
       " (., ''),\n",
       " (It, ''),\n",
       " (is, ''),\n",
       " (also, ''),\n",
       " (about, ''),\n",
       " (switching, ''),\n",
       " (out, ''),\n",
       " (of, ''),\n",
       " (the, ''),\n",
       " (gold, ''),\n",
       " (ETF, ''),\n",
       " ([, ''),\n",
       " (exchange, ''),\n",
       " (traded, ''),\n",
       " (fund, ''),\n",
       " (], ''),\n",
       " (into, ''),\n",
       " (gold, ''),\n",
       " (equities, ''),\n",
       " (and, ''),\n",
       " (gold, ''),\n",
       " (equity, ''),\n",
       " (funds, ''),\n",
       " (., '')]"
      ]
     },
     "execution_count": 4,
     "metadata": {},
     "output_type": "execute_result"
    }
   ],
   "source": [
    "[(i, i.pos_) for i in doc]"
   ]
  },
  {
   "cell_type": "code",
   "execution_count": 5,
   "id": "169465a5",
   "metadata": {},
   "outputs": [
    {
     "name": "stdout",
     "output_type": "stream",
     "text": [
      "(Gold, gold, Gold, Gold, gold, gold, gold)\n"
     ]
    }
   ],
   "source": [
    "# The results include all instances of the word 'gold',\n",
    "# including where it appears as part of a company name, which is unwanted.\n",
    "print(doc.ents)"
   ]
  },
  {
   "cell_type": "code",
   "execution_count": 6,
   "id": "8b617664",
   "metadata": {},
   "outputs": [
    {
     "name": "stdout",
     "output_type": "stream",
     "text": [
      "Gold 0 4 2181413665215533003 COMMODITY\n",
      "gold 37 41 2181413665215533003 COMMODITY\n",
      "Gold 78 82 2181413665215533003 COMMODITY\n",
      "Gold 158 162 2181413665215533003 COMMODITY\n",
      "gold 245 249 2181413665215533003 COMMODITY\n",
      "gold 282 286 2181413665215533003 COMMODITY\n",
      "gold 300 304 2181413665215533003 COMMODITY\n"
     ]
    }
   ],
   "source": [
    "for ent in doc.ents:\n",
    "        print(ent.text, ent.start_char, ent.end_char, ent.label, ent.label_)"
   ]
  }
 ],
 "metadata": {
  "kernelspec": {
   "display_name": "Python 3 (ipykernel)",
   "language": "python",
   "name": "python3"
  },
  "language_info": {
   "codemirror_mode": {
    "name": "ipython",
    "version": 3
   },
   "file_extension": ".py",
   "mimetype": "text/x-python",
   "name": "python",
   "nbconvert_exporter": "python",
   "pygments_lexer": "ipython3",
   "version": "3.9.7"
  }
 },
 "nbformat": 4,
 "nbformat_minor": 5
}
