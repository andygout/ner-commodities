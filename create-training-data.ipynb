{
 "cells": [
  {
   "cell_type": "code",
   "execution_count": 1,
   "id": "28498fd5",
   "metadata": {},
   "outputs": [],
   "source": [
    "import json\n",
    "import spacy\n",
    "from spacy.tokens import DocBin\n",
    "from tqdm import tqdm"
   ]
  },
  {
   "cell_type": "code",
   "execution_count": 2,
   "id": "5700628d",
   "metadata": {},
   "outputs": [],
   "source": [
    "def load_data(file):\n",
    "    with open (file, \"r\", encoding=\"utf-8\") as f:\n",
    "        data = json.load(f)\n",
    "    return (data)"
   ]
  },
  {
   "cell_type": "code",
   "execution_count": 3,
   "id": "76985871",
   "metadata": {},
   "outputs": [],
   "source": [
    "def write_data(file, data):\n",
    "    with open (file, \"w\", encoding=\"utf-8\") as f:\n",
    "        json.dump(data, f, indent=4)"
   ]
  },
  {
   "cell_type": "code",
   "execution_count": 4,
   "id": "f7dfc2b1",
   "metadata": {},
   "outputs": [],
   "source": [
    "nlp = spacy.load(\"commodities_ner_rules\")"
   ]
  },
  {
   "cell_type": "code",
   "execution_count": 5,
   "id": "eb2b72b5",
   "metadata": {},
   "outputs": [],
   "source": [
    "def extract_results(text):\n",
    "    doc = nlp(text)\n",
    "    results = []\n",
    "    entities = []\n",
    "    for ent in doc.ents:\n",
    "        entities.append((ent.start_char, ent.end_char, ent.label_))\n",
    "    if len(entities) > 0:\n",
    "        results = [text, {\"entities\": entities}]\n",
    "        return results"
   ]
  },
  {
   "cell_type": "code",
   "execution_count": 6,
   "id": "dec6180b",
   "metadata": {},
   "outputs": [],
   "source": [
    "TRAINING_DATA = []"
   ]
  },
  {
   "cell_type": "code",
   "execution_count": 7,
   "id": "4d0598db",
   "metadata": {},
   "outputs": [
    {
     "name": "stdout",
     "output_type": "stream",
     "text": [
      "['China Hongqiao, the world’s largest producer of aluminium by output, used its latest annual report to warn that fierce competition in its home market would lead to “survival of the fittest”.', {'entities': [(48, 57, 'COMMODITY')]}]\n",
      "16648\n"
     ]
    }
   ],
   "source": [
    "with open(\"data/ft-articles-training.txt\") as f:\n",
    "    text = f.read()\n",
    "    articles = text.split(\"\\n\")\n",
    "    for article in articles:\n",
    "        articleUuid, articleBodyText = article.split(\"|||\")\n",
    "        segments = articleBodyText.split(\"||\")\n",
    "        hits = []\n",
    "        for segment in segments:\n",
    "            results = extract_results(segment)\n",
    "            if results != None:\n",
    "                TRAINING_DATA.append(results)\n",
    "                \n",
    "print(TRAINING_DATA[0])\n",
    "print(len(TRAINING_DATA))"
   ]
  },
  {
   "cell_type": "code",
   "execution_count": 8,
   "id": "5b152cd2",
   "metadata": {},
   "outputs": [],
   "source": [
    "write_data(\"data/training_data.json\", TRAINING_DATA)"
   ]
  },
  {
   "cell_type": "code",
   "execution_count": 9,
   "id": "db5704fe",
   "metadata": {},
   "outputs": [],
   "source": [
    "nlp = spacy.blank(\"en\")"
   ]
  },
  {
   "cell_type": "code",
   "execution_count": 10,
   "id": "f2f87b6d",
   "metadata": {},
   "outputs": [],
   "source": [
    "training_data = load_data(\"data/training_data.json\")"
   ]
  },
  {
   "cell_type": "code",
   "execution_count": 11,
   "id": "05170072",
   "metadata": {},
   "outputs": [],
   "source": [
    "def create_spacy_format_data(DATA):\n",
    "    docBin = DocBin() # create a DocBin object\n",
    "    for text, annotation in tqdm(DATA): # data in previous format\n",
    "        doc = nlp.make_doc(text) # create doc object from text\n",
    "        ents = []\n",
    "        for start, end, label in annotation[\"entities\"]: # add character indexes\n",
    "            span = doc.char_span(start, end, label=label, alignment_mode=\"contract\")\n",
    "            if span is None:\n",
    "                print (\"Skipping entity\")\n",
    "            else:\n",
    "                ents.append(span)\n",
    "        doc.ents = ents # label the text with the ents\n",
    "        docBin.add(doc)\n",
    "    return (docBin)"
   ]
  },
  {
   "cell_type": "code",
   "execution_count": 12,
   "id": "e4c58fbb",
   "metadata": {},
   "outputs": [
    {
     "name": "stderr",
     "output_type": "stream",
     "text": [
      "100%|██████████████████████████████████████████████████████████████████████████████████████████| 16648/16648 [00:03<00:00, 5056.86it/s]\n"
     ]
    }
   ],
   "source": [
    "training_data = create_spacy_format_data(training_data)\n",
    "training_data.to_disk(\"data/training_data.spacy\")"
   ]
  }
 ],
 "metadata": {
  "kernelspec": {
   "display_name": "Python 3 (ipykernel)",
   "language": "python",
   "name": "python3"
  },
  "language_info": {
   "codemirror_mode": {
    "name": "ipython",
    "version": 3
   },
   "file_extension": ".py",
   "mimetype": "text/x-python",
   "name": "python",
   "nbconvert_exporter": "python",
   "pygments_lexer": "ipython3",
   "version": "3.9.7"
  }
 },
 "nbformat": 4,
 "nbformat_minor": 5
}
