{
 "cells": [
  {
   "cell_type": "code",
   "execution_count": 19,
   "id": "28498fd5",
   "metadata": {},
   "outputs": [],
   "source": [
    "import json\n",
    "import random\n",
    "import spacy\n",
    "from spacy.language import Language\n",
    "from spacy.lang.en import English\n",
    "from spacy.pipeline import EntityRuler\n",
    "from spacy.tokens import DocBin\n",
    "from tqdm import tqdm"
   ]
  },
  {
   "cell_type": "code",
   "execution_count": 20,
   "id": "5700628d",
   "metadata": {},
   "outputs": [],
   "source": [
    "def load_data(file):\n",
    "    with open (file, \"r\", encoding=\"utf-8\") as f:\n",
    "        data = json.load(f)\n",
    "    return (data)"
   ]
  },
  {
   "cell_type": "code",
   "execution_count": 21,
   "id": "76985871",
   "metadata": {},
   "outputs": [],
   "source": [
    "def write_data(file, data):\n",
    "    with open (file, \"w\", encoding=\"utf-8\") as f:\n",
    "        json.dump(data, f, indent=4)"
   ]
  },
  {
   "cell_type": "code",
   "execution_count": 22,
   "id": "d4a9c3b8",
   "metadata": {},
   "outputs": [
    {
     "name": "stdout",
     "output_type": "stream",
     "text": [
      "['aluminium', 'Aluminium', 'cattle', 'Cattle', 'cobalt', 'Cobalt', 'cocoa', 'Cocoa', 'coffee', 'Coffee', 'copper', 'Copper', 'corn', 'Corn', 'cotton', 'Cotton', 'crude oil', 'Crude oil', 'gold', 'Gold', 'iron', 'Iron', 'lithium', 'Lithium', 'natural gas', 'Natural gas', 'palm oil', 'Palm oil', 'poultry', 'Poultry', 'rice', 'Rice', 'silver', 'Silver', 'sugar', 'Sugar', 'wheat', 'Wheat', 'zinc', 'Zinc']\n"
     ]
    }
   ],
   "source": [
    "commodities = load_data(\"data/commodities.json\")\n",
    "print(commodities)"
   ]
  },
  {
   "cell_type": "code",
   "execution_count": 23,
   "id": "d6d05b57",
   "metadata": {},
   "outputs": [],
   "source": [
    "def create_patterns(file, type):\n",
    "    data = load_data(file)\n",
    "    patterns = []\n",
    "    for item in data:\n",
    "        pattern = {\n",
    "            \"label\": type,\n",
    "            \"pattern\": item\n",
    "        }\n",
    "        patterns.append(pattern)\n",
    "    return (patterns)"
   ]
  },
  {
   "cell_type": "code",
   "execution_count": 24,
   "id": "bd60faee",
   "metadata": {},
   "outputs": [],
   "source": [
    "def generate_rules(patterns):\n",
    "    nlp = English()\n",
    "    ruler = nlp.add_pipe(\"entity_ruler\")\n",
    "    ruler.add_patterns(patterns)\n",
    "    nlp.to_disk(\"commodities_ner\")"
   ]
  },
  {
   "cell_type": "code",
   "execution_count": 25,
   "id": "2eef1b7d",
   "metadata": {},
   "outputs": [
    {
     "name": "stdout",
     "output_type": "stream",
     "text": [
      "[{'label': 'COMMODITY', 'pattern': 'aluminium'}, {'label': 'COMMODITY', 'pattern': 'Aluminium'}, {'label': 'COMMODITY', 'pattern': 'cattle'}, {'label': 'COMMODITY', 'pattern': 'Cattle'}, {'label': 'COMMODITY', 'pattern': 'cobalt'}, {'label': 'COMMODITY', 'pattern': 'Cobalt'}, {'label': 'COMMODITY', 'pattern': 'cocoa'}, {'label': 'COMMODITY', 'pattern': 'Cocoa'}, {'label': 'COMMODITY', 'pattern': 'coffee'}, {'label': 'COMMODITY', 'pattern': 'Coffee'}, {'label': 'COMMODITY', 'pattern': 'copper'}, {'label': 'COMMODITY', 'pattern': 'Copper'}, {'label': 'COMMODITY', 'pattern': 'corn'}, {'label': 'COMMODITY', 'pattern': 'Corn'}, {'label': 'COMMODITY', 'pattern': 'cotton'}, {'label': 'COMMODITY', 'pattern': 'Cotton'}, {'label': 'COMMODITY', 'pattern': 'crude oil'}, {'label': 'COMMODITY', 'pattern': 'Crude oil'}, {'label': 'COMMODITY', 'pattern': 'gold'}, {'label': 'COMMODITY', 'pattern': 'Gold'}, {'label': 'COMMODITY', 'pattern': 'iron'}, {'label': 'COMMODITY', 'pattern': 'Iron'}, {'label': 'COMMODITY', 'pattern': 'lithium'}, {'label': 'COMMODITY', 'pattern': 'Lithium'}, {'label': 'COMMODITY', 'pattern': 'natural gas'}, {'label': 'COMMODITY', 'pattern': 'Natural gas'}, {'label': 'COMMODITY', 'pattern': 'palm oil'}, {'label': 'COMMODITY', 'pattern': 'Palm oil'}, {'label': 'COMMODITY', 'pattern': 'poultry'}, {'label': 'COMMODITY', 'pattern': 'Poultry'}, {'label': 'COMMODITY', 'pattern': 'rice'}, {'label': 'COMMODITY', 'pattern': 'Rice'}, {'label': 'COMMODITY', 'pattern': 'silver'}, {'label': 'COMMODITY', 'pattern': 'Silver'}, {'label': 'COMMODITY', 'pattern': 'sugar'}, {'label': 'COMMODITY', 'pattern': 'Sugar'}, {'label': 'COMMODITY', 'pattern': 'wheat'}, {'label': 'COMMODITY', 'pattern': 'Wheat'}, {'label': 'COMMODITY', 'pattern': 'zinc'}, {'label': 'COMMODITY', 'pattern': 'Zinc'}]\n"
     ]
    }
   ],
   "source": [
    "patterns = create_patterns(\"data/commodities.json\", \"COMMODITY\")\n",
    "print(patterns)"
   ]
  },
  {
   "cell_type": "code",
   "execution_count": 26,
   "id": "27d214f1",
   "metadata": {},
   "outputs": [],
   "source": [
    "generate_rules(patterns)"
   ]
  },
  {
   "cell_type": "code",
   "execution_count": 27,
   "id": "f7dfc2b1",
   "metadata": {},
   "outputs": [],
   "source": [
    "nlp = spacy.load(\"commodities_ner\")"
   ]
  },
  {
   "cell_type": "code",
   "execution_count": 28,
   "id": "eb2b72b5",
   "metadata": {},
   "outputs": [],
   "source": [
    "def test_model(model, text):\n",
    "    doc = nlp(text)\n",
    "    results = []\n",
    "    entities = []\n",
    "    for ent in doc.ents:\n",
    "        entities.append((ent.start_char, ent.end_char, ent.label_))\n",
    "    if len(entities) > 0:\n",
    "        results = [text, {\"entities\": entities}]\n",
    "        return results"
   ]
  },
  {
   "cell_type": "code",
   "execution_count": 29,
   "id": "dec6180b",
   "metadata": {},
   "outputs": [],
   "source": [
    "TRAINING_DATA = []"
   ]
  },
  {
   "cell_type": "code",
   "execution_count": 30,
   "id": "4d0598db",
   "metadata": {},
   "outputs": [
    {
     "name": "stdout",
     "output_type": "stream",
     "text": [
      "['For much of the past two years, aluminium was the metal everyone loved to hate. While copper, the darling of hedge funds, has raced to one record after another, hitting $10,000 a tonne last week for the first time, aluminium, the most widely used metal after steel, lagged far behind.', {'entities': [(32, 41, 'COMMODITY'), (86, 92, 'COMMODITY'), (215, 224, 'COMMODITY')]}]\n",
      "19220\n"
     ]
    }
   ],
   "source": [
    "with open(\"data/ft-articles-training.txt\") as f:\n",
    "    text = f.read()\n",
    "    articles = text.split(\"\\n\")\n",
    "    for article in articles:\n",
    "        articleUuid, articleBodyText = article.split(\"|||\")\n",
    "        segments = articleBodyText.split(\"||\")\n",
    "        hits = []\n",
    "        for segment in segments:\n",
    "            results = test_model(nlp, segment)\n",
    "            if results != None:\n",
    "                TRAINING_DATA.append(results)\n",
    "                \n",
    "print(TRAINING_DATA[0])\n",
    "print(len(TRAINING_DATA))"
   ]
  },
  {
   "cell_type": "code",
   "execution_count": 31,
   "id": "5b152cd2",
   "metadata": {},
   "outputs": [],
   "source": [
    "write_data(\"data/training_data.json\", TRAINING_DATA)"
   ]
  },
  {
   "cell_type": "code",
   "execution_count": 32,
   "id": "db5704fe",
   "metadata": {},
   "outputs": [],
   "source": [
    "nlp = spacy.blank(\"en\")"
   ]
  },
  {
   "cell_type": "code",
   "execution_count": 33,
   "id": "f2f87b6d",
   "metadata": {},
   "outputs": [],
   "source": [
    "training_data = load_data(\"data/training_data.json\")"
   ]
  },
  {
   "cell_type": "code",
   "execution_count": 34,
   "id": "05170072",
   "metadata": {},
   "outputs": [],
   "source": [
    "def create_spacy_format_data(DATA):\n",
    "    docBin = DocBin() # create a DocBin object\n",
    "    for text, annotation in tqdm(DATA): # data in previous format\n",
    "        doc = nlp.make_doc(text) # create doc object from text\n",
    "        ents = []\n",
    "        for start, end, label in annotation[\"entities\"]: # add character indexes\n",
    "            span = doc.char_span(start, end, label=label, alignment_mode=\"contract\")\n",
    "            if span is None:\n",
    "                print (\"Skipping entity\")\n",
    "            else:\n",
    "                ents.append(span)\n",
    "        doc.ents = ents # label the text with the ents\n",
    "        docBin.add(doc)\n",
    "    return (docBin)"
   ]
  },
  {
   "cell_type": "code",
   "execution_count": 35,
   "id": "e4c58fbb",
   "metadata": {},
   "outputs": [
    {
     "name": "stderr",
     "output_type": "stream",
     "text": [
      "100%|███████████████████████████████████████████████████████████████████| 19220/19220 [00:03<00:00, 4983.94it/s]\n"
     ]
    }
   ],
   "source": [
    "training_data = create_spacy_format_data(training_data)\n",
    "training_data.to_disk(\"data/training_data.spacy\")"
   ]
  }
 ],
 "metadata": {
  "kernelspec": {
   "display_name": "Python 3 (ipykernel)",
   "language": "python",
   "name": "python3"
  },
  "language_info": {
   "codemirror_mode": {
    "name": "ipython",
    "version": 3
   },
   "file_extension": ".py",
   "mimetype": "text/x-python",
   "name": "python",
   "nbconvert_exporter": "python",
   "pygments_lexer": "ipython3",
   "version": "3.9.7"
  }
 },
 "nbformat": 4,
 "nbformat_minor": 5
}
