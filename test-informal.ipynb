{
 "cells": [
  {
   "cell_type": "code",
   "execution_count": 1,
   "id": "a876eaf2",
   "metadata": {},
   "outputs": [],
   "source": [
    "import json\n",
    "import spacy"
   ]
  },
  {
   "cell_type": "code",
   "execution_count": 2,
   "id": "b9d0547b",
   "metadata": {},
   "outputs": [],
   "source": [
    "def load_data(file):\n",
    "    with open (file, \"r\", encoding=\"utf-8\") as f:\n",
    "        data = json.load(f)\n",
    "    return (data)"
   ]
  },
  {
   "cell_type": "code",
   "execution_count": 3,
   "id": "6447b9a2",
   "metadata": {},
   "outputs": [],
   "source": [
    "test_data = load_data(\"data/commodities_test_data.json\")"
   ]
  },
  {
   "cell_type": "code",
   "execution_count": 4,
   "id": "40458240",
   "metadata": {},
   "outputs": [
    {
     "name": "stdout",
     "output_type": "stream",
     "text": [
      "291\n"
     ]
    }
   ],
   "source": [
    "print(len(test_data))"
   ]
  },
  {
   "cell_type": "code",
   "execution_count": 5,
   "id": "e1c2fb80",
   "metadata": {},
   "outputs": [
    {
     "name": "stdout",
     "output_type": "stream",
     "text": [
      "['The uproar over cloning has arisen because of a grey area in the law: although it is legal to import cloned animals, their embryos, semen and offspring, and farmers who do so are under no obligation to report their activities to the authorities, the farmers are not allowed to sell products from these animals – such as meat or milk – for human consumption without seeking permission. No such permission has yet been granted.', {'entities': [[328, 332, 'COMMODITY']]}]\n"
     ]
    }
   ],
   "source": [
    "print(test_data[10])"
   ]
  },
  {
   "cell_type": "code",
   "execution_count": 6,
   "id": "fe23e140",
   "metadata": {},
   "outputs": [],
   "source": [
    "nlp = spacy.load(\"output/model-best\")"
   ]
  },
  {
   "cell_type": "code",
   "execution_count": 7,
   "id": "e4ddfe1b",
   "metadata": {},
   "outputs": [],
   "source": [
    "doc = nlp(test_data[10][0])"
   ]
  },
  {
   "cell_type": "code",
   "execution_count": 8,
   "id": "1cee770e",
   "metadata": {},
   "outputs": [
    {
     "name": "stdout",
     "output_type": "stream",
     "text": [
      "cloned COMMODITY\n",
      "milk COMMODITY\n"
     ]
    }
   ],
   "source": [
    "for entity in doc.ents:\n",
    "    print(entity.text, entity.label_)"
   ]
  }
 ],
 "metadata": {
  "kernelspec": {
   "display_name": "Python 3 (ipykernel)",
   "language": "python",
   "name": "python3"
  },
  "language_info": {
   "codemirror_mode": {
    "name": "ipython",
    "version": 3
   },
   "file_extension": ".py",
   "mimetype": "text/x-python",
   "name": "python",
   "nbconvert_exporter": "python",
   "pygments_lexer": "ipython3",
   "version": "3.9.7"
  }
 },
 "nbformat": 4,
 "nbformat_minor": 5
}
