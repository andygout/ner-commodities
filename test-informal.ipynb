{
 "cells": [
  {
   "cell_type": "code",
   "execution_count": 4,
   "id": "a876eaf2",
   "metadata": {},
   "outputs": [],
   "source": [
    "import json\n",
    "import spacy"
   ]
  },
  {
   "cell_type": "code",
   "execution_count": 5,
   "id": "b9d0547b",
   "metadata": {},
   "outputs": [],
   "source": [
    "def load_data(file):\n",
    "    with open (file, \"r\", encoding=\"utf-8\") as f:\n",
    "        data = json.load(f)\n",
    "    return (data)"
   ]
  },
  {
   "cell_type": "code",
   "execution_count": 6,
   "id": "6447b9a2",
   "metadata": {},
   "outputs": [],
   "source": [
    "test_data = load_data(\"data/test_data.json\")"
   ]
  },
  {
   "cell_type": "code",
   "execution_count": 7,
   "id": "40458240",
   "metadata": {},
   "outputs": [
    {
     "name": "stdout",
     "output_type": "stream",
     "text": [
      "2798\n"
     ]
    }
   ],
   "source": [
    "print(len(test_data))"
   ]
  },
  {
   "cell_type": "code",
   "execution_count": 8,
   "id": "e1c2fb80",
   "metadata": {},
   "outputs": [
    {
     "name": "stdout",
     "output_type": "stream",
     "text": [
      "['With half of the global aluminium capacity now lossmaking, Colin Hamilton, analyst at BMO Capital Markets, expects a more aggressive response from the industry than CRU.', {'entities': [[24, 33, 'COMMODITY']]}]\n"
     ]
    }
   ],
   "source": [
    "print(test_data[10])"
   ]
  },
  {
   "cell_type": "code",
   "execution_count": 9,
   "id": "fe23e140",
   "metadata": {},
   "outputs": [],
   "source": [
    "nlp = spacy.load(\"output/model-best\")"
   ]
  },
  {
   "cell_type": "code",
   "execution_count": 10,
   "id": "e4ddfe1b",
   "metadata": {},
   "outputs": [],
   "source": [
    "doc = nlp(test_data[10][0])"
   ]
  },
  {
   "cell_type": "code",
   "execution_count": 11,
   "id": "1cee770e",
   "metadata": {},
   "outputs": [
    {
     "name": "stdout",
     "output_type": "stream",
     "text": [
      "aluminium COMMODITY\n"
     ]
    }
   ],
   "source": [
    "for entity in doc.ents:\n",
    "    print(entity.text, entity.label_)"
   ]
  }
 ],
 "metadata": {
  "kernelspec": {
   "display_name": "Python 3 (ipykernel)",
   "language": "python",
   "name": "python3"
  },
  "language_info": {
   "codemirror_mode": {
    "name": "ipython",
    "version": 3
   },
   "file_extension": ".py",
   "mimetype": "text/x-python",
   "name": "python",
   "nbconvert_exporter": "python",
   "pygments_lexer": "ipython3",
   "version": "3.9.7"
  }
 },
 "nbformat": 4,
 "nbformat_minor": 5
}
