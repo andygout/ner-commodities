{
 "cells": [
  {
   "cell_type": "code",
   "execution_count": 11,
   "id": "4bcff7ad",
   "metadata": {},
   "outputs": [],
   "source": [
    "import json\n",
    "import spacy"
   ]
  },
  {
   "cell_type": "code",
   "execution_count": 12,
   "id": "a9846947",
   "metadata": {},
   "outputs": [],
   "source": [
    "def load_data(file):\n",
    "    with open (file, \"r\", encoding=\"utf-8\") as f:\n",
    "        data = json.load(f)\n",
    "    return (data)"
   ]
  },
  {
   "cell_type": "code",
   "execution_count": 13,
   "id": "93472cf1",
   "metadata": {},
   "outputs": [],
   "source": [
    "def write_data(file, data):\n",
    "    with open (file, \"w\", encoding=\"utf-8\") as f:\n",
    "        json.dump(data, f, indent=4)"
   ]
  },
  {
   "cell_type": "code",
   "execution_count": 14,
   "id": "242b2501",
   "metadata": {},
   "outputs": [],
   "source": [
    "nlp = spacy.load(\"commodities_ner\")"
   ]
  },
  {
   "cell_type": "code",
   "execution_count": 15,
   "id": "63bf9122",
   "metadata": {},
   "outputs": [],
   "source": [
    "def test_model(model, text):\n",
    "    doc = nlp(text)\n",
    "    results = []\n",
    "    entities = []\n",
    "    for ent in doc.ents:\n",
    "        entities.append((ent.start_char, ent.end_char, ent.label_))\n",
    "    if len(entities) > 0:\n",
    "        results = [text, {\"entities\": entities}]\n",
    "        return results"
   ]
  },
  {
   "cell_type": "code",
   "execution_count": 16,
   "id": "b7556e64",
   "metadata": {},
   "outputs": [],
   "source": [
    "TEST_DATA = []"
   ]
  },
  {
   "cell_type": "code",
   "execution_count": 17,
   "id": "1f9c1282",
   "metadata": {
    "scrolled": true
   },
   "outputs": [
    {
     "name": "stdout",
     "output_type": "stream",
     "text": [
      "['China giveth and China taketh away. That certainly resonates with those taking a punt on aluminium. The metals market is focused on one huge long position built up recently. It is thought to be equivalent to between 50 and 80 per cent of all the aluminium sitting in London Metal Exchange’s warehouses, just over 800,000 tonnes. There is also an unusually large number of March 2007 aluminium calls at strike prices of $3,000 a tonne or more outstanding.', {'entities': [(89, 98, 'COMMODITY'), (246, 255, 'COMMODITY'), (383, 392, 'COMMODITY')]}]\n",
      "2865\n"
     ]
    }
   ],
   "source": [
    "with open(\"data/ft-commodities-articles-test.txt\") as f:\n",
    "    text = f.read()\n",
    "    articles = text.split(\"\\n\")\n",
    "    for article in articles:\n",
    "        articleUuid, articleBodyText = article.split(\"|||\")\n",
    "        segments = articleBodyText.split(\"||\")\n",
    "        hits = []\n",
    "        for segment in segments:\n",
    "            results = test_model(nlp, segment)\n",
    "            if results != None:\n",
    "                TEST_DATA.append(results)\n",
    "                \n",
    "print(TEST_DATA[0])\n",
    "print(len(TEST_DATA))"
   ]
  },
  {
   "cell_type": "code",
   "execution_count": 18,
   "id": "af3fbdfc",
   "metadata": {},
   "outputs": [],
   "source": [
    "write_data(\"data/test_data.json\", TEST_DATA)"
   ]
  }
 ],
 "metadata": {
  "kernelspec": {
   "display_name": "Python 3 (ipykernel)",
   "language": "python",
   "name": "python3"
  },
  "language_info": {
   "codemirror_mode": {
    "name": "ipython",
    "version": 3
   },
   "file_extension": ".py",
   "mimetype": "text/x-python",
   "name": "python",
   "nbconvert_exporter": "python",
   "pygments_lexer": "ipython3",
   "version": "3.9.7"
  }
 },
 "nbformat": 4,
 "nbformat_minor": 5
}
