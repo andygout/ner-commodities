{
 "cells": [
  {
   "cell_type": "code",
   "execution_count": 1,
   "id": "4bcff7ad",
   "metadata": {},
   "outputs": [],
   "source": [
    "import json\n",
    "import spacy"
   ]
  },
  {
   "cell_type": "code",
   "execution_count": 2,
   "id": "a9846947",
   "metadata": {},
   "outputs": [],
   "source": [
    "def load_data(file):\n",
    "    with open (file, \"r\", encoding=\"utf-8\") as f:\n",
    "        data = json.load(f)\n",
    "    return (data)"
   ]
  },
  {
   "cell_type": "code",
   "execution_count": 3,
   "id": "93472cf1",
   "metadata": {},
   "outputs": [],
   "source": [
    "def write_data(file, data):\n",
    "    with open (file, \"w\", encoding=\"utf-8\") as f:\n",
    "        json.dump(data, f, indent=4)"
   ]
  },
  {
   "cell_type": "code",
   "execution_count": 4,
   "id": "242b2501",
   "metadata": {},
   "outputs": [],
   "source": [
    "nlp = spacy.load(\"commodities_ner\")"
   ]
  },
  {
   "cell_type": "code",
   "execution_count": 5,
   "id": "63bf9122",
   "metadata": {},
   "outputs": [],
   "source": [
    "def test_model(model, text):\n",
    "    doc = nlp(text)\n",
    "    results = []\n",
    "    entities = []\n",
    "    for ent in doc.ents:\n",
    "        entities.append((ent.start_char, ent.end_char, ent.label_))\n",
    "    if len(entities) > 0:\n",
    "        results = [text, {\"entities\": entities}]\n",
    "        return results"
   ]
  },
  {
   "cell_type": "code",
   "execution_count": 6,
   "id": "b7556e64",
   "metadata": {},
   "outputs": [],
   "source": [
    "TEST_DATA = []"
   ]
  },
  {
   "cell_type": "code",
   "execution_count": 7,
   "id": "1f9c1282",
   "metadata": {
    "scrolled": true
   },
   "outputs": [
    {
     "name": "stdout",
     "output_type": "stream",
     "text": [
      "['The aluminium industry has seemed sleepy in comparison with this year’s ructions in the steel sector. No longer. The putative takeover by Rusal, the world’s third largest aluminium producer, of Sual, the sixth largest, will create a global leader, with a $30bn estimated enterprise value.', {'entities': [(4, 13, 'COMMODITY'), (171, 180, 'COMMODITY')]}]\n",
      "291\n"
     ]
    }
   ],
   "source": [
    "with open(\"data/ft-commodities-articles-test.txt\") as f:\n",
    "    text = f.read()\n",
    "    articles = text.split(\"\\n\")\n",
    "    for article in articles:\n",
    "        articleUuid, articleBodyText = article.split(\"|||\")\n",
    "        segments = articleBodyText.split(\"||\")\n",
    "        hits = []\n",
    "        for segment in segments:\n",
    "            results = test_model(nlp, segment)\n",
    "            if results != None:\n",
    "                TEST_DATA.append(results)\n",
    "                \n",
    "print(TEST_DATA[0])\n",
    "print(len(TEST_DATA))"
   ]
  },
  {
   "cell_type": "code",
   "execution_count": 8,
   "id": "af3fbdfc",
   "metadata": {},
   "outputs": [],
   "source": [
    "write_data(\"data/commodities_test_data.json\", TEST_DATA)"
   ]
  }
 ],
 "metadata": {
  "kernelspec": {
   "display_name": "Python 3 (ipykernel)",
   "language": "python",
   "name": "python3"
  },
  "language_info": {
   "codemirror_mode": {
    "name": "ipython",
    "version": 3
   },
   "file_extension": ".py",
   "mimetype": "text/x-python",
   "name": "python",
   "nbconvert_exporter": "python",
   "pygments_lexer": "ipython3",
   "version": "3.9.7"
  }
 },
 "nbformat": 4,
 "nbformat_minor": 5
}
