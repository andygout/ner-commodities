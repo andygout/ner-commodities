{
 "cells": [
  {
   "cell_type": "code",
   "execution_count": 15,
   "id": "4bcff7ad",
   "metadata": {},
   "outputs": [],
   "source": [
    "import json\n",
    "import spacy"
   ]
  },
  {
   "cell_type": "code",
   "execution_count": 16,
   "id": "93472cf1",
   "metadata": {},
   "outputs": [],
   "source": [
    "def write_data(file, data):\n",
    "    with open (file, \"w\", encoding=\"utf-8\") as f:\n",
    "        json.dump(data, f, indent=4)"
   ]
  },
  {
   "cell_type": "code",
   "execution_count": 17,
   "id": "242b2501",
   "metadata": {},
   "outputs": [],
   "source": [
    "nlp = spacy.load(\"commodities_ner_rules\")"
   ]
  },
  {
   "cell_type": "code",
   "execution_count": 18,
   "id": "63bf9122",
   "metadata": {},
   "outputs": [],
   "source": [
    "def extract_results(text):\n",
    "    doc = nlp(text)\n",
    "    results = []\n",
    "    entities = []\n",
    "    for ent in doc.ents:\n",
    "        entities.append((ent.start_char, ent.end_char, ent.label_))\n",
    "    if len(entities) > 0:\n",
    "        results = [text, {\"entities\": entities}]\n",
    "        return results"
   ]
  },
  {
   "cell_type": "code",
   "execution_count": 19,
   "id": "b7556e64",
   "metadata": {},
   "outputs": [],
   "source": [
    "TEST_DATA = []"
   ]
  },
  {
   "cell_type": "code",
   "execution_count": 20,
   "id": "1f9c1282",
   "metadata": {
    "scrolled": true
   },
   "outputs": [
    {
     "name": "stdout",
     "output_type": "stream",
     "text": [
      "['Alcoa, the US aluminium group, expects global demand for the metal to grow 6 per cent this year, only slightly slower than 2015, in spite of the volatility in financial markets.', {'entities': [(14, 23, 'COMMODITY')]}]\n",
      "3262\n"
     ]
    }
   ],
   "source": [
    "with open(\"data/ft-articles-test.txt\") as file:\n",
    "    text = file.read()\n",
    "    articles = text.split(\"\\n\")\n",
    "    for article in articles:\n",
    "        articleUuid, articleBodyText = article.split(\"|||\")\n",
    "        segments = articleBodyText.split(\"||\")\n",
    "        hits = []\n",
    "        for segment in segments:\n",
    "            results = extract_results(segment)\n",
    "            if results != None:\n",
    "                TEST_DATA.append(results)\n",
    "                \n",
    "print(TEST_DATA[0])\n",
    "print(len(TEST_DATA))"
   ]
  },
  {
   "cell_type": "code",
   "execution_count": 21,
   "id": "af3fbdfc",
   "metadata": {},
   "outputs": [],
   "source": [
    "write_data(\"data/test_data.json\", TEST_DATA)"
   ]
  }
 ],
 "metadata": {
  "kernelspec": {
   "display_name": "Python 3 (ipykernel)",
   "language": "python",
   "name": "python3"
  },
  "language_info": {
   "codemirror_mode": {
    "name": "ipython",
    "version": 3
   },
   "file_extension": ".py",
   "mimetype": "text/x-python",
   "name": "python",
   "nbconvert_exporter": "python",
   "pygments_lexer": "ipython3",
   "version": "3.9.7"
  }
 },
 "nbformat": 4,
 "nbformat_minor": 5
}
