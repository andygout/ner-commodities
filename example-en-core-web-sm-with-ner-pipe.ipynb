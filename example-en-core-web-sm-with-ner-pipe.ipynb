{
 "cells": [
  {
   "cell_type": "code",
   "execution_count": 38,
   "id": "6a831100",
   "metadata": {},
   "outputs": [],
   "source": [
    "import spacy"
   ]
  },
  {
   "cell_type": "code",
   "execution_count": 54,
   "id": "6b69cdf0",
   "metadata": {
    "scrolled": false
   },
   "outputs": [
    {
     "name": "stdout",
     "output_type": "stream",
     "text": [
      "['tok2vec', 'tagger', 'parser', 'attribute_ruler', 'lemmatizer', 'ner', 'entity_ruler']\n"
     ]
    }
   ],
   "source": [
    "patterns = [{'label': 'COMMODITY', 'pattern': [{'LOWER': 'gold', 'POS': 'NOUN'}]}]\n",
    "\n",
    "# This will create a pipeline that includes the \"ner\" pipe\n",
    "# that will also include all recognised entities (regardless of whether or not they adhere to the prescribed patterns).\n",
    "nlp = spacy.load(\"en_core_web_sm\")\n",
    "\n",
    "# Uncomment the below line to see how the \"ner\" pipe is responsible for inluding named entities in the results.\n",
    "# nlp.remove_pipe(\"ner\")\n",
    "\n",
    "ruler = nlp.add_pipe(\"entity_ruler\")\n",
    "\n",
    "ruler.add_patterns(patterns)\n",
    "\n",
    "print(nlp.pipe_names)\n",
    "\n",
    "doc = nlp(\"Gold is great and this is text about gold the commodity and also about Yamana Gold the company, of which Daniel Racine is CEO, and the other companies called Gold Fields, Auminium Mining Corp, and Goldcorp.\")"
   ]
  },
  {
   "cell_type": "code",
   "execution_count": 55,
   "id": "f2a222f1",
   "metadata": {
    "scrolled": false
   },
   "outputs": [
    {
     "name": "stdout",
     "output_type": "stream",
     "text": [
      "Gold is great and this is text about gold the commodity and also about Yamana Gold the company, of which Daniel Racine is CEO, and the other companies called Gold Fields, Auminium Mining Corp, and Goldcorp.\n"
     ]
    }
   ],
   "source": [
    "print(doc)"
   ]
  },
  {
   "cell_type": "code",
   "execution_count": 56,
   "id": "f75356f1",
   "metadata": {},
   "outputs": [
    {
     "data": {
      "text/plain": [
       "[(Gold, 'NOUN'),\n",
       " (is, 'AUX'),\n",
       " (great, 'ADJ'),\n",
       " (and, 'CCONJ'),\n",
       " (this, 'PRON'),\n",
       " (is, 'AUX'),\n",
       " (text, 'NOUN'),\n",
       " (about, 'ADP'),\n",
       " (gold, 'NOUN'),\n",
       " (the, 'DET'),\n",
       " (commodity, 'NOUN'),\n",
       " (and, 'CCONJ'),\n",
       " (also, 'ADV'),\n",
       " (about, 'ADP'),\n",
       " (Yamana, 'PROPN'),\n",
       " (Gold, 'PROPN'),\n",
       " (the, 'DET'),\n",
       " (company, 'NOUN'),\n",
       " (,, 'PUNCT'),\n",
       " (of, 'ADP'),\n",
       " (which, 'PRON'),\n",
       " (Daniel, 'PROPN'),\n",
       " (Racine, 'PROPN'),\n",
       " (is, 'AUX'),\n",
       " (CEO, 'PROPN'),\n",
       " (,, 'PUNCT'),\n",
       " (and, 'CCONJ'),\n",
       " (the, 'DET'),\n",
       " (other, 'ADJ'),\n",
       " (companies, 'NOUN'),\n",
       " (called, 'VERB'),\n",
       " (Gold, 'PROPN'),\n",
       " (Fields, 'PROPN'),\n",
       " (,, 'PUNCT'),\n",
       " (Auminium, 'PROPN'),\n",
       " (Mining, 'PROPN'),\n",
       " (Corp, 'PROPN'),\n",
       " (,, 'PUNCT'),\n",
       " (and, 'CCONJ'),\n",
       " (Goldcorp, 'PROPN'),\n",
       " (., 'PUNCT')]"
      ]
     },
     "execution_count": 56,
     "metadata": {},
     "output_type": "execute_result"
    }
   ],
   "source": [
    "[(i, i.pos_) for i in doc]"
   ]
  },
  {
   "cell_type": "code",
   "execution_count": 57,
   "id": "2b9da200",
   "metadata": {},
   "outputs": [
    {
     "name": "stdout",
     "output_type": "stream",
     "text": [
      "(Gold, gold, Yamana Gold, Daniel Racine, Gold Fields, Auminium Mining Corp, Goldcorp)\n"
     ]
    }
   ],
   "source": [
    "# The results include instances of proper nouns in which the word 'gold' is part of that proper noun\n",
    "# (e.g. company names), which is unwanted.\n",
    "print(doc.ents)"
   ]
  },
  {
   "cell_type": "code",
   "execution_count": 58,
   "id": "3e3a90ee",
   "metadata": {
    "scrolled": false
   },
   "outputs": [
    {
     "name": "stdout",
     "output_type": "stream",
     "text": [
      "Gold 0 4 2181413665215533003 COMMODITY\n",
      "gold 37 41 2181413665215533003 COMMODITY\n",
      "Yamana Gold 71 82 383 ORG\n",
      "Daniel Racine 105 118 380 PERSON\n",
      "Gold Fields 158 169 383 ORG\n",
      "Auminium Mining Corp 171 191 383 ORG\n",
      "Goldcorp 197 205 383 ORG\n"
     ]
    }
   ],
   "source": [
    "for ent in doc.ents:\n",
    "    print(ent.text, ent.start_char, ent.end_char, ent.label, ent.label_)"
   ]
  }
 ],
 "metadata": {
  "kernelspec": {
   "display_name": "Python 3 (ipykernel)",
   "language": "python",
   "name": "python3"
  },
  "language_info": {
   "codemirror_mode": {
    "name": "ipython",
    "version": 3
   },
   "file_extension": ".py",
   "mimetype": "text/x-python",
   "name": "python",
   "nbconvert_exporter": "python",
   "pygments_lexer": "ipython3",
   "version": "3.9.7"
  }
 },
 "nbformat": 4,
 "nbformat_minor": 5
}
