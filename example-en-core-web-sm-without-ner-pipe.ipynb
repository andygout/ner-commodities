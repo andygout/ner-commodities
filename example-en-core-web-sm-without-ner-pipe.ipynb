{
 "cells": [
  {
   "cell_type": "code",
   "execution_count": 1,
   "id": "06fbe60a",
   "metadata": {},
   "outputs": [],
   "source": [
    "import spacy"
   ]
  },
  {
   "cell_type": "code",
   "execution_count": 2,
   "id": "e01274f8",
   "metadata": {},
   "outputs": [
    {
     "name": "stdout",
     "output_type": "stream",
     "text": [
      "['tok2vec', 'tagger', 'parser', 'attribute_ruler', 'lemmatizer', 'entity_ruler']\n"
     ]
    }
   ],
   "source": [
    "patterns = [{'label': 'COMMODITY', 'pattern': [{'LOWER': 'gold', 'POS': 'NOUN'}]}]\n",
    "\n",
    "nlp = spacy.load(\"en_core_web_sm\")\n",
    "\n",
    "nlp.remove_pipe(\"ner\")\n",
    "\n",
    "ruler = nlp.add_pipe(\"entity_ruler\")\n",
    "\n",
    "ruler.add_patterns(patterns)\n",
    "\n",
    "print(nlp.pipe_names)\n",
    "\n",
    "doc = nlp(\"Gold is great and this is text about gold the commodity and also about Yamana Gold the company, of which Daniel Racine is CEO, and the other companies called Gold Fields, Auminium Mining Corp, and Goldcorp. It is also about switching out of the gold ETF [exchange traded fund] into gold equities and gold equity funds.\")"
   ]
  },
  {
   "cell_type": "code",
   "execution_count": 3,
   "id": "0be9f30e",
   "metadata": {},
   "outputs": [
    {
     "name": "stdout",
     "output_type": "stream",
     "text": [
      "Gold is great and this is text about gold the commodity and also about Yamana Gold the company, of which Daniel Racine is CEO, and the other companies called Gold Fields, Auminium Mining Corp, and Goldcorp. It is also about switching out of the gold ETF [exchange traded fund] into gold equities and gold equity funds.\n"
     ]
    }
   ],
   "source": [
    "print(doc)"
   ]
  },
  {
   "cell_type": "code",
   "execution_count": 4,
   "id": "82e3012c",
   "metadata": {},
   "outputs": [
    {
     "data": {
      "text/plain": [
       "[(Gold, 'NOUN'),\n",
       " (is, 'AUX'),\n",
       " (great, 'ADJ'),\n",
       " (and, 'CCONJ'),\n",
       " (this, 'PRON'),\n",
       " (is, 'AUX'),\n",
       " (text, 'NOUN'),\n",
       " (about, 'ADP'),\n",
       " (gold, 'NOUN'),\n",
       " (the, 'DET'),\n",
       " (commodity, 'NOUN'),\n",
       " (and, 'CCONJ'),\n",
       " (also, 'ADV'),\n",
       " (about, 'ADP'),\n",
       " (Yamana, 'PROPN'),\n",
       " (Gold, 'PROPN'),\n",
       " (the, 'DET'),\n",
       " (company, 'NOUN'),\n",
       " (,, 'PUNCT'),\n",
       " (of, 'ADP'),\n",
       " (which, 'PRON'),\n",
       " (Daniel, 'PROPN'),\n",
       " (Racine, 'PROPN'),\n",
       " (is, 'AUX'),\n",
       " (CEO, 'PROPN'),\n",
       " (,, 'PUNCT'),\n",
       " (and, 'CCONJ'),\n",
       " (the, 'DET'),\n",
       " (other, 'ADJ'),\n",
       " (companies, 'NOUN'),\n",
       " (called, 'VERB'),\n",
       " (Gold, 'PROPN'),\n",
       " (Fields, 'PROPN'),\n",
       " (,, 'PUNCT'),\n",
       " (Auminium, 'PROPN'),\n",
       " (Mining, 'PROPN'),\n",
       " (Corp, 'PROPN'),\n",
       " (,, 'PUNCT'),\n",
       " (and, 'CCONJ'),\n",
       " (Goldcorp, 'PROPN'),\n",
       " (., 'PUNCT'),\n",
       " (It, 'PRON'),\n",
       " (is, 'AUX'),\n",
       " (also, 'ADV'),\n",
       " (about, 'ADP'),\n",
       " (switching, 'VERB'),\n",
       " (out, 'ADP'),\n",
       " (of, 'ADP'),\n",
       " (the, 'DET'),\n",
       " (gold, 'ADJ'),\n",
       " (ETF, 'NOUN'),\n",
       " ([, 'PUNCT'),\n",
       " (exchange, 'NOUN'),\n",
       " (traded, 'VERB'),\n",
       " (fund, 'NOUN'),\n",
       " (], 'PUNCT'),\n",
       " (into, 'ADP'),\n",
       " (gold, 'ADJ'),\n",
       " (equities, 'NOUN'),\n",
       " (and, 'CCONJ'),\n",
       " (gold, 'ADJ'),\n",
       " (equity, 'NOUN'),\n",
       " (funds, 'NOUN'),\n",
       " (., 'PUNCT')]"
      ]
     },
     "execution_count": 4,
     "metadata": {},
     "output_type": "execute_result"
    }
   ],
   "source": [
    "[(i, i.pos_) for i in doc]"
   ]
  },
  {
   "cell_type": "code",
   "execution_count": 5,
   "id": "2199b194",
   "metadata": {},
   "outputs": [
    {
     "name": "stdout",
     "output_type": "stream",
     "text": [
      "(Gold, gold)\n"
     ]
    }
   ],
   "source": [
    "# The results include instances where gold used as a noun is misinterpreted as an adjective, e.g. \"gold equity funds\".\n",
    "print(doc.ents)"
   ]
  },
  {
   "cell_type": "code",
   "execution_count": 6,
   "id": "934d18b1",
   "metadata": {},
   "outputs": [
    {
     "name": "stdout",
     "output_type": "stream",
     "text": [
      "Gold 0 4 2181413665215533003 COMMODITY\n",
      "gold 37 41 2181413665215533003 COMMODITY\n"
     ]
    }
   ],
   "source": [
    "for ent in doc.ents:\n",
    "        print(ent.text, ent.start_char, ent.end_char, ent.label, ent.label_)"
   ]
  }
 ],
 "metadata": {
  "kernelspec": {
   "display_name": "Python 3 (ipykernel)",
   "language": "python",
   "name": "python3"
  },
  "language_info": {
   "codemirror_mode": {
    "name": "ipython",
    "version": 3
   },
   "file_extension": ".py",
   "mimetype": "text/x-python",
   "name": "python",
   "nbconvert_exporter": "python",
   "pygments_lexer": "ipython3",
   "version": "3.9.7"
  }
 },
 "nbformat": 4,
 "nbformat_minor": 5
}
