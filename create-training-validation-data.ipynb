{
 "cells": [
  {
   "cell_type": "code",
   "execution_count": 1,
   "id": "28498fd5",
   "metadata": {},
   "outputs": [],
   "source": [
    "import json\n",
    "import random\n",
    "import spacy\n",
    "from spacy.language import Language\n",
    "from spacy.lang.en import English\n",
    "from spacy.pipeline import EntityRuler\n",
    "from spacy.tokens import DocBin\n",
    "from tqdm import tqdm"
   ]
  },
  {
   "cell_type": "code",
   "execution_count": 2,
   "id": "5700628d",
   "metadata": {},
   "outputs": [],
   "source": [
    "def load_data(file):\n",
    "    with open (file, \"r\", encoding=\"utf-8\") as f:\n",
    "        data = json.load(f)\n",
    "    return (data)"
   ]
  },
  {
   "cell_type": "code",
   "execution_count": 3,
   "id": "76985871",
   "metadata": {},
   "outputs": [],
   "source": [
    "def write_data(file, data):\n",
    "    with open (file, \"w\", encoding=\"utf-8\") as f:\n",
    "        json.dump(data, f, indent=4)"
   ]
  },
  {
   "cell_type": "code",
   "execution_count": 4,
   "id": "d4a9c3b8",
   "metadata": {},
   "outputs": [
    {
     "name": "stdout",
     "output_type": "stream",
     "text": [
      "['aluminium', 'Aluminium', 'amber', 'Amber', 'Brent crude', 'cattle', 'Cattle', 'cobalt', 'Cobalt', 'cocoa', 'Cocoa', 'coffee', 'Coffee', 'copper', 'Copper', 'corn', 'Corn', 'cotton', 'Cotton', 'crude oil', 'Crude oil', 'ethanol', 'Ethanol', 'gold', 'Gold', 'grain', 'Grain', 'heating oil', 'Heating oil', 'hogs', 'Hogs', 'iron', 'Iron', 'lead', 'Lead', 'lithium', 'Lithium', 'milk', 'Milk', 'molybdenum', 'Molybdenum', 'natural gas', 'Natural gas', 'nickel', 'Nickel', 'oats', 'Oats', 'palladium', 'Palladium', 'palm oil', 'Palm oil', 'platinum', 'Platinum', 'poultry', 'Poultry', 'propane', 'Propane', 'rapeseed', 'Rapeseed', 'rice', 'Rice', 'rubber', 'Rubber', 'silver', 'Silver', 'soybeans', 'Soybeans', 'soya beans', 'Soya beans', 'sugar', 'Sugar', 'tin', 'Tin', 'wheat', 'Wheat', 'wool', 'Wool', 'zinc', 'Zinc']\n"
     ]
    }
   ],
   "source": [
    "commodities = load_data(\"data/commodities.json\")\n",
    "print(commodities)"
   ]
  },
  {
   "cell_type": "code",
   "execution_count": 5,
   "id": "d6d05b57",
   "metadata": {},
   "outputs": [],
   "source": [
    "def create_training_data(file, type):\n",
    "    data = load_data(file)\n",
    "    patterns = []\n",
    "    for item in data:\n",
    "        pattern = {\n",
    "            \"label\": type,\n",
    "            \"pattern\": item\n",
    "        }\n",
    "        patterns.append(pattern)\n",
    "    return (patterns)"
   ]
  },
  {
   "cell_type": "code",
   "execution_count": 6,
   "id": "bd60faee",
   "metadata": {},
   "outputs": [],
   "source": [
    "def generate_rules(patterns):\n",
    "    nlp = English()\n",
    "    ruler = nlp.add_pipe(\"entity_ruler\")\n",
    "    ruler.add_patterns(patterns)\n",
    "    nlp.to_disk(\"commodities_ner\")"
   ]
  },
  {
   "cell_type": "code",
   "execution_count": 7,
   "id": "2eef1b7d",
   "metadata": {},
   "outputs": [
    {
     "name": "stdout",
     "output_type": "stream",
     "text": [
      "[{'label': 'COMMODITY', 'pattern': 'aluminium'}, {'label': 'COMMODITY', 'pattern': 'Aluminium'}, {'label': 'COMMODITY', 'pattern': 'amber'}, {'label': 'COMMODITY', 'pattern': 'Amber'}, {'label': 'COMMODITY', 'pattern': 'Brent crude'}, {'label': 'COMMODITY', 'pattern': 'cattle'}, {'label': 'COMMODITY', 'pattern': 'Cattle'}, {'label': 'COMMODITY', 'pattern': 'cobalt'}, {'label': 'COMMODITY', 'pattern': 'Cobalt'}, {'label': 'COMMODITY', 'pattern': 'cocoa'}, {'label': 'COMMODITY', 'pattern': 'Cocoa'}, {'label': 'COMMODITY', 'pattern': 'coffee'}, {'label': 'COMMODITY', 'pattern': 'Coffee'}, {'label': 'COMMODITY', 'pattern': 'copper'}, {'label': 'COMMODITY', 'pattern': 'Copper'}, {'label': 'COMMODITY', 'pattern': 'corn'}, {'label': 'COMMODITY', 'pattern': 'Corn'}, {'label': 'COMMODITY', 'pattern': 'cotton'}, {'label': 'COMMODITY', 'pattern': 'Cotton'}, {'label': 'COMMODITY', 'pattern': 'crude oil'}, {'label': 'COMMODITY', 'pattern': 'Crude oil'}, {'label': 'COMMODITY', 'pattern': 'ethanol'}, {'label': 'COMMODITY', 'pattern': 'Ethanol'}, {'label': 'COMMODITY', 'pattern': 'gold'}, {'label': 'COMMODITY', 'pattern': 'Gold'}, {'label': 'COMMODITY', 'pattern': 'grain'}, {'label': 'COMMODITY', 'pattern': 'Grain'}, {'label': 'COMMODITY', 'pattern': 'heating oil'}, {'label': 'COMMODITY', 'pattern': 'Heating oil'}, {'label': 'COMMODITY', 'pattern': 'hogs'}, {'label': 'COMMODITY', 'pattern': 'Hogs'}, {'label': 'COMMODITY', 'pattern': 'iron'}, {'label': 'COMMODITY', 'pattern': 'Iron'}, {'label': 'COMMODITY', 'pattern': 'lead'}, {'label': 'COMMODITY', 'pattern': 'Lead'}, {'label': 'COMMODITY', 'pattern': 'lithium'}, {'label': 'COMMODITY', 'pattern': 'Lithium'}, {'label': 'COMMODITY', 'pattern': 'milk'}, {'label': 'COMMODITY', 'pattern': 'Milk'}, {'label': 'COMMODITY', 'pattern': 'molybdenum'}, {'label': 'COMMODITY', 'pattern': 'Molybdenum'}, {'label': 'COMMODITY', 'pattern': 'natural gas'}, {'label': 'COMMODITY', 'pattern': 'Natural gas'}, {'label': 'COMMODITY', 'pattern': 'nickel'}, {'label': 'COMMODITY', 'pattern': 'Nickel'}, {'label': 'COMMODITY', 'pattern': 'oats'}, {'label': 'COMMODITY', 'pattern': 'Oats'}, {'label': 'COMMODITY', 'pattern': 'palladium'}, {'label': 'COMMODITY', 'pattern': 'Palladium'}, {'label': 'COMMODITY', 'pattern': 'palm oil'}, {'label': 'COMMODITY', 'pattern': 'Palm oil'}, {'label': 'COMMODITY', 'pattern': 'platinum'}, {'label': 'COMMODITY', 'pattern': 'Platinum'}, {'label': 'COMMODITY', 'pattern': 'poultry'}, {'label': 'COMMODITY', 'pattern': 'Poultry'}, {'label': 'COMMODITY', 'pattern': 'propane'}, {'label': 'COMMODITY', 'pattern': 'Propane'}, {'label': 'COMMODITY', 'pattern': 'rapeseed'}, {'label': 'COMMODITY', 'pattern': 'Rapeseed'}, {'label': 'COMMODITY', 'pattern': 'rice'}, {'label': 'COMMODITY', 'pattern': 'Rice'}, {'label': 'COMMODITY', 'pattern': 'rubber'}, {'label': 'COMMODITY', 'pattern': 'Rubber'}, {'label': 'COMMODITY', 'pattern': 'silver'}, {'label': 'COMMODITY', 'pattern': 'Silver'}, {'label': 'COMMODITY', 'pattern': 'soybeans'}, {'label': 'COMMODITY', 'pattern': 'Soybeans'}, {'label': 'COMMODITY', 'pattern': 'soya beans'}, {'label': 'COMMODITY', 'pattern': 'Soya beans'}, {'label': 'COMMODITY', 'pattern': 'sugar'}, {'label': 'COMMODITY', 'pattern': 'Sugar'}, {'label': 'COMMODITY', 'pattern': 'tin'}, {'label': 'COMMODITY', 'pattern': 'Tin'}, {'label': 'COMMODITY', 'pattern': 'wheat'}, {'label': 'COMMODITY', 'pattern': 'Wheat'}, {'label': 'COMMODITY', 'pattern': 'wool'}, {'label': 'COMMODITY', 'pattern': 'Wool'}, {'label': 'COMMODITY', 'pattern': 'zinc'}, {'label': 'COMMODITY', 'pattern': 'Zinc'}]\n"
     ]
    }
   ],
   "source": [
    "patterns = create_training_data(\"data/commodities.json\", \"COMMODITY\")\n",
    "print(patterns)"
   ]
  },
  {
   "cell_type": "code",
   "execution_count": 8,
   "id": "27d214f1",
   "metadata": {},
   "outputs": [],
   "source": [
    "generate_rules(patterns)"
   ]
  },
  {
   "cell_type": "code",
   "execution_count": 9,
   "id": "f7dfc2b1",
   "metadata": {},
   "outputs": [],
   "source": [
    "nlp = spacy.load(\"commodities_ner\")"
   ]
  },
  {
   "cell_type": "code",
   "execution_count": 10,
   "id": "eb2b72b5",
   "metadata": {},
   "outputs": [],
   "source": [
    "def test_model(model, text):\n",
    "    doc = nlp(text)\n",
    "    results = []\n",
    "    entities = []\n",
    "    for ent in doc.ents:\n",
    "        entities.append((ent.start_char, ent.end_char, ent.label_))\n",
    "    if len(entities) > 0:\n",
    "        results = [text, {\"entities\": entities}]\n",
    "        return results"
   ]
  },
  {
   "cell_type": "code",
   "execution_count": 11,
   "id": "dec6180b",
   "metadata": {},
   "outputs": [],
   "source": [
    "TRAINING_DATA = []\n",
    "VALIDATION_DATA = []"
   ]
  },
  {
   "cell_type": "code",
   "execution_count": 12,
   "id": "4d0598db",
   "metadata": {},
   "outputs": [
    {
     "name": "stdout",
     "output_type": "stream",
     "text": [
      "['China giveth and China taketh away. That certainly resonates with those taking a punt on aluminium. The metals market is focused on one huge long position built up recently. It is thought to be equivalent to between 50 and 80 per cent of all the aluminium sitting in London Metal Exchange’s warehouses, just over 800,000 tonnes. There is also an unusually large number of March 2007 aluminium calls at strike prices of $3,000 a tonne or more outstanding.', {'entities': [(89, 98, 'COMMODITY'), (246, 255, 'COMMODITY'), (383, 392, 'COMMODITY')]}]\n",
      "1433\n",
      "['Yet in spite of several runs up towards $3,000, spot aluminium has not breached that level and now sits at less than $2,800. The squeeze means even high-cost producers can keep their smelters running, and metal has been flooding into LME warehouses, with inventories rising by almost 70,000 tonnes in the past month alone. Producer stocks, held outside the LME, have also seen a big increase across the world.', {'entities': [(53, 62, 'COMMODITY')]}]\n",
      "1432\n"
     ]
    }
   ],
   "source": [
    "with open(\"data/ft-commodities-articles.txt\") as f:\n",
    "    text = f.read()\n",
    "    articles = text.split(\"\\n\")\n",
    "    for article in articles:\n",
    "        articleUuid, articleBodyText = article.split(\"|||\")\n",
    "        segments = articleBodyText.split(\"||\")\n",
    "        hits = []\n",
    "        for segment in segments:\n",
    "            results = test_model(nlp, segment)\n",
    "            if results != None:\n",
    "                if len(TRAINING_DATA) > len(VALIDATION_DATA):\n",
    "                    VALIDATION_DATA.append(results)\n",
    "                else:\n",
    "                    TRAINING_DATA.append(results)\n",
    "                \n",
    "print(TRAINING_DATA[0])\n",
    "print(len(TRAINING_DATA))\n",
    "\n",
    "print(VALIDATION_DATA[0])\n",
    "print(len(VALIDATION_DATA))"
   ]
  },
  {
   "cell_type": "code",
   "execution_count": 13,
   "id": "5b152cd2",
   "metadata": {},
   "outputs": [],
   "source": [
    "write_data(\"data/commodities_training_data.json\", TRAINING_DATA)\n",
    "write_data(\"data/commodities_validation_data.json\", VALIDATION_DATA)"
   ]
  },
  {
   "cell_type": "code",
   "execution_count": 14,
   "id": "db5704fe",
   "metadata": {},
   "outputs": [],
   "source": [
    "nlp = spacy.blank(\"en\")"
   ]
  },
  {
   "cell_type": "code",
   "execution_count": 16,
   "id": "f2f87b6d",
   "metadata": {},
   "outputs": [],
   "source": [
    "commodities_training_data = load_data(\"data/commodities_training_data.json\")\n",
    "commodities_validation_data = load_data(\"data/commodities_validation_data.json\")"
   ]
  },
  {
   "cell_type": "code",
   "execution_count": 17,
   "id": "05170072",
   "metadata": {},
   "outputs": [],
   "source": [
    "def create_spacy_format_data(TRAINING_DATA):\n",
    "    docBin = DocBin() # create a DocBin object\n",
    "    for text, annotation in tqdm(TRAINING_DATA): # data in previous format\n",
    "        doc = nlp.make_doc(text) # create doc object from text\n",
    "        ents = []\n",
    "        for start, end, label in annotation[\"entities\"]: # add character indexes\n",
    "            span = doc.char_span(start, end, label=label, alignment_mode=\"contract\")\n",
    "            if span is None:\n",
    "                print (\"Skipping entity\")\n",
    "            else:\n",
    "                ents.append(span)\n",
    "        doc.ents = ents # label the text with the ents\n",
    "        docBin.add(doc)\n",
    "    return (docBin)"
   ]
  },
  {
   "cell_type": "code",
   "execution_count": 18,
   "id": "e4c58fbb",
   "metadata": {},
   "outputs": [
    {
     "name": "stderr",
     "output_type": "stream",
     "text": [
      "100%|████████████████████████████████████████████████████████████████████████████████| 1433/1433 [00:00<00:00, 2850.10it/s]\n"
     ]
    }
   ],
   "source": [
    "commodities_training_data = create_spacy_format_data(commodities_training_data)\n",
    "commodities_training_data.to_disk(\"data/commodities_training_data.spacy\")"
   ]
  },
  {
   "cell_type": "code",
   "execution_count": 19,
   "id": "1e73a2d2",
   "metadata": {
    "scrolled": true
   },
   "outputs": [
    {
     "name": "stderr",
     "output_type": "stream",
     "text": [
      "100%|████████████████████████████████████████████████████████████████████████████████| 1432/1432 [00:00<00:00, 3666.48it/s]\n"
     ]
    }
   ],
   "source": [
    "commodities_validation_data = create_spacy_format_data(commodities_validation_data)\n",
    "commodities_validation_data.to_disk(\"data/commodities_validation_data.spacy\")"
   ]
  }
 ],
 "metadata": {
  "kernelspec": {
   "display_name": "Python 3 (ipykernel)",
   "language": "python",
   "name": "python3"
  },
  "language_info": {
   "codemirror_mode": {
    "name": "ipython",
    "version": 3
   },
   "file_extension": ".py",
   "mimetype": "text/x-python",
   "name": "python",
   "nbconvert_exporter": "python",
   "pygments_lexer": "ipython3",
   "version": "3.9.7"
  }
 },
 "nbformat": 4,
 "nbformat_minor": 5
}
