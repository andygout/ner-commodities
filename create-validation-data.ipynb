{
 "cells": [
  {
   "cell_type": "code",
   "execution_count": 1,
   "id": "00fe0164",
   "metadata": {},
   "outputs": [],
   "source": [
    "import json\n",
    "import spacy\n",
    "from spacy.tokens import DocBin\n",
    "from tqdm import tqdm"
   ]
  },
  {
   "cell_type": "code",
   "execution_count": 2,
   "id": "bb049f65",
   "metadata": {},
   "outputs": [],
   "source": [
    "def load_data(file):\n",
    "    with open (file, \"r\", encoding=\"utf-8\") as f:\n",
    "        data = json.load(f)\n",
    "    return (data)"
   ]
  },
  {
   "cell_type": "code",
   "execution_count": 3,
   "id": "87613231",
   "metadata": {},
   "outputs": [],
   "source": [
    "def write_data(file, data):\n",
    "    with open (file, \"w\", encoding=\"utf-8\") as f:\n",
    "        json.dump(data, f, indent=4)"
   ]
  },
  {
   "cell_type": "code",
   "execution_count": 4,
   "id": "346b3001",
   "metadata": {},
   "outputs": [],
   "source": [
    "nlp = spacy.load(\"commodities_ner_rules\")"
   ]
  },
  {
   "cell_type": "code",
   "execution_count": 5,
   "id": "aa4e2251",
   "metadata": {},
   "outputs": [],
   "source": [
    "def extract_results(text):\n",
    "    doc = nlp(text)\n",
    "    results = []\n",
    "    entities = []\n",
    "    for ent in doc.ents:\n",
    "        entities.append((ent.start_char, ent.end_char, ent.label_))\n",
    "    if len(entities) > 0:\n",
    "        results = [text, {\"entities\": entities}]\n",
    "        return results"
   ]
  },
  {
   "cell_type": "code",
   "execution_count": 6,
   "id": "336dcf70",
   "metadata": {},
   "outputs": [],
   "source": [
    "VALIDATION_DATA = []"
   ]
  },
  {
   "cell_type": "code",
   "execution_count": 7,
   "id": "63d29aaa",
   "metadata": {
    "scrolled": true
   },
   "outputs": [
    {
     "name": "stdout",
     "output_type": "stream",
     "text": [
      "['A Chinese metals entrepreneur plans to acquire Aleris, a privately-held US rolled aluminium products producer, for $2.33bn including debt, giving him a foothold in metals production in North America.', {'entities': [(82, 91, 'COMMODITY')]}]\n",
      "3059\n"
     ]
    }
   ],
   "source": [
    "with open(\"data/ft-articles-validation.txt\") as file:\n",
    "    text = file.read()\n",
    "    articles = text.split(\"\\n\")\n",
    "    for article in articles:\n",
    "        articleUuid, articleBodyText = article.split(\"|||\")\n",
    "        segments = articleBodyText.split(\"||\")\n",
    "        hits = []\n",
    "        for segment in segments:\n",
    "            results = extract_results(segment)\n",
    "            if results != None:\n",
    "                VALIDATION_DATA.append(results)\n",
    "                \n",
    "print(VALIDATION_DATA[0])\n",
    "print(len(VALIDATION_DATA))"
   ]
  },
  {
   "cell_type": "code",
   "execution_count": 8,
   "id": "f43f100c",
   "metadata": {},
   "outputs": [],
   "source": [
    "write_data(\"data/validation_data.json\", VALIDATION_DATA)"
   ]
  },
  {
   "cell_type": "code",
   "execution_count": 9,
   "id": "6f142fa1",
   "metadata": {},
   "outputs": [],
   "source": [
    "nlp = spacy.blank(\"en\")"
   ]
  },
  {
   "cell_type": "code",
   "execution_count": 10,
   "id": "69dec3a9",
   "metadata": {},
   "outputs": [],
   "source": [
    "validation_data = load_data(\"data/validation_data.json\")"
   ]
  },
  {
   "cell_type": "code",
   "execution_count": 11,
   "id": "85ce824d",
   "metadata": {},
   "outputs": [],
   "source": [
    "def create_spacy_format_data(DATA):\n",
    "    docBin = DocBin() # create a DocBin object\n",
    "    for text, annotation in tqdm(DATA): # data in previous format\n",
    "        doc = nlp.make_doc(text) # create doc object from text\n",
    "        ents = []\n",
    "        for start, end, label in annotation[\"entities\"]: # add character indexes\n",
    "            span = doc.char_span(start, end, label=label, alignment_mode=\"contract\")\n",
    "            if span is None:\n",
    "                print (\"Skipping entity\")\n",
    "            else:\n",
    "                ents.append(span)\n",
    "        doc.ents = ents # label the text with the ents\n",
    "        docBin.add(doc)\n",
    "    return (docBin)"
   ]
  },
  {
   "cell_type": "code",
   "execution_count": 12,
   "id": "c6d0f50b",
   "metadata": {},
   "outputs": [
    {
     "name": "stderr",
     "output_type": "stream",
     "text": [
      "100%|████████████████████████████████████████████████████████████████████████████████████████████| 3059/3059 [00:00<00:00, 3881.46it/s]\n"
     ]
    }
   ],
   "source": [
    "validation_data = create_spacy_format_data(validation_data)\n",
    "validation_data.to_disk(\"data/validation_data.spacy\")"
   ]
  }
 ],
 "metadata": {
  "kernelspec": {
   "display_name": "Python 3 (ipykernel)",
   "language": "python",
   "name": "python3"
  },
  "language_info": {
   "codemirror_mode": {
    "name": "ipython",
    "version": 3
   },
   "file_extension": ".py",
   "mimetype": "text/x-python",
   "name": "python",
   "nbconvert_exporter": "python",
   "pygments_lexer": "ipython3",
   "version": "3.9.7"
  }
 },
 "nbformat": 4,
 "nbformat_minor": 5
}
